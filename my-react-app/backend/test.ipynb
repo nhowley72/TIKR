{
 "cells": [
  {
   "cell_type": "code",
   "execution_count": 17,
   "metadata": {},
   "outputs": [
    {
     "name": "stdout",
     "output_type": "stream",
     "text": [
      "\u001b[1m1/1\u001b[0m \u001b[32m━━━━━━━━━━━━━━━━━━━━\u001b[0m\u001b[37m\u001b[0m \u001b[1m0s\u001b[0m 115ms/step\n"
     ]
    },
    {
     "data": {
      "text/plain": [
       "array([[238.82631],\n",
       "       [239.25748],\n",
       "       [239.5289 ],\n",
       "       [239.5883 ],\n",
       "       [240.27263],\n",
       "       [240.81049],\n",
       "       [240.67284],\n",
       "       [240.69003],\n",
       "       [240.63039],\n",
       "       [241.10133],\n",
       "       [241.81175],\n",
       "       [241.0125 ],\n",
       "       [241.07901],\n",
       "       [241.48035],\n",
       "       [242.16747],\n",
       "       [242.9501 ],\n",
       "       [243.44087],\n",
       "       [242.94989],\n",
       "       [242.27443],\n",
       "       [242.00917]], dtype=float32)"
      ]
     },
     "execution_count": 17,
     "metadata": {},
     "output_type": "execute_result"
    }
   ],
   "source": [
    "# main.py\n",
    "from fastapi import FastAPI\n",
    "from pydantic import BaseModel\n",
    "import joblib\n",
    "import yfinance as yf\n",
    "import numpy as np\n",
    "import pandas as pd\n",
    "from fastapi.middleware.cors import CORSMiddleware\n",
    "\n",
    "\n",
    "def predict(ticker):\n",
    "\n",
    "    # Load the saved model and scaler for this ticker\n",
    "    # (Make sure the files exist; otherwise handle the error.)\n",
    "    model = joblib.load(\"live_models/AAPL_model.joblib\")\n",
    "    X_predict = pd.read_csv('predicting_data/AAPL.csv')\n",
    "    X_predict = X_predict.drop(['Date'], axis=1)\n",
    "    \n",
    "    # Convert 'Ticker' column to categorical type\n",
    "    X_predict = X_predict.drop(['Ticker'], axis=1)\n",
    "    \n",
    "    # Enable categorical parameter\n",
    "    predictions = model.predict(X_predict)\n",
    "\n",
    "    return (predictions)\n",
    "\n",
    "predict('AAPL')"
   ]
  },
  {
   "cell_type": "code",
   "execution_count": 24,
   "metadata": {},
   "outputs": [
    {
     "name": "stdout",
     "output_type": "stream",
     "text": [
      "WARNING:tensorflow:6 out of the last 6 calls to <function TensorFlowTrainer.make_predict_function.<locals>.one_step_on_data_distributed at 0x30aa37ec0> triggered tf.function retracing. Tracing is expensive and the excessive number of tracings could be due to (1) creating @tf.function repeatedly in a loop, (2) passing tensors with different shapes, (3) passing Python objects instead of tensors. For (1), please define your @tf.function outside of the loop. For (2), @tf.function has reduce_retracing=True option that can avoid unnecessary retracing. For (3), please refer to https://www.tensorflow.org/guide/function#controlling_retracing and https://www.tensorflow.org/api_docs/python/tf/function for  more details.\n",
      "\u001b[1m1/1\u001b[0m \u001b[32m━━━━━━━━━━━━━━━━━━━━\u001b[0m\u001b[37m\u001b[0m \u001b[1m0s\u001b[0m 83ms/step\n"
     ]
    },
    {
     "name": "stderr",
     "output_type": "stream",
     "text": [
      "/var/folders/s_/kpvlk3bs5v7_vx6qt436qn400000gn/T/ipykernel_19986/2158703520.py:11: DeprecationWarning: Conversion of an array with ndim > 0 to a scalar is deprecated, and will error in future. Ensure you extract a single element from your array before performing this operation. (Deprecated NumPy 1.25.)\n",
      "  rounded_predictions = [np.round(float(pred), 2) for pred in predictions]\n"
     ]
    },
    {
     "data": {
      "text/plain": [
       "{'stock_ticker': 'AAPL',\n",
       " 'predictions': [238.83,\n",
       "  239.26,\n",
       "  239.53,\n",
       "  239.59,\n",
       "  240.27,\n",
       "  240.81,\n",
       "  240.67,\n",
       "  240.69,\n",
       "  240.63,\n",
       "  241.1,\n",
       "  241.81,\n",
       "  241.01,\n",
       "  241.08,\n",
       "  241.48,\n",
       "  242.17,\n",
       "  242.95,\n",
       "  243.44,\n",
       "  242.95,\n",
       "  242.27,\n",
       "  242.01]}"
      ]
     },
     "execution_count": 24,
     "metadata": {},
     "output_type": "execute_result"
    }
   ],
   "source": [
    "def predict(ticker):\n",
    "    \n",
    "\n",
    "    model = joblib.load(f\"live_models/{ticker}_model.joblib\")\n",
    "    X_predict = pd.read_csv(f'predicting_data/{ticker}.csv')\n",
    "    X_predict = X_predict.drop(['Date'], axis=1)\n",
    "    X_predict = X_predict.drop(['Ticker'], axis=1)\n",
    "    \n",
    "    # Enable categorical parameter\n",
    "    predictions = model.predict(X_predict)\n",
    "    rounded_predictions = [np.round(float(pred), 2) for pred in predictions]\n",
    "\n",
    "    return {\n",
    "        \"stock_ticker\": ticker,\n",
    "        \"predictions\": rounded_predictions\n",
    "    }\n",
    "predict('AAPL')"
   ]
  },
  {
   "cell_type": "code",
   "execution_count": null,
   "metadata": {},
   "outputs": [],
   "source": []
  }
 ],
 "metadata": {
  "kernelspec": {
   "display_name": "Python 3",
   "language": "python",
   "name": "python3"
  },
  "language_info": {
   "codemirror_mode": {
    "name": "ipython",
    "version": 3
   },
   "file_extension": ".py",
   "mimetype": "text/x-python",
   "name": "python",
   "nbconvert_exporter": "python",
   "pygments_lexer": "ipython3",
   "version": "3.11.9"
  }
 },
 "nbformat": 4,
 "nbformat_minor": 2
}

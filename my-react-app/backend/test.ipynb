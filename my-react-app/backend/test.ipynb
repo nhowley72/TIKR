{
 "cells": [
  {
   "cell_type": "code",
   "execution_count": 17,
   "metadata": {},
   "outputs": [
    {
     "name": "stdout",
     "output_type": "stream",
     "text": [
      "\u001b[1m1/1\u001b[0m \u001b[32m━━━━━━━━━━━━━━━━━━━━\u001b[0m\u001b[37m\u001b[0m \u001b[1m0s\u001b[0m 115ms/step\n"
     ]
    },
    {
     "data": {
      "text/plain": [
       "array([[238.82631],\n",
       "       [239.25748],\n",
       "       [239.5289 ],\n",
       "       [239.5883 ],\n",
       "       [240.27263],\n",
       "       [240.81049],\n",
       "       [240.67284],\n",
       "       [240.69003],\n",
       "       [240.63039],\n",
       "       [241.10133],\n",
       "       [241.81175],\n",
       "       [241.0125 ],\n",
       "       [241.07901],\n",
       "       [241.48035],\n",
       "       [242.16747],\n",
       "       [242.9501 ],\n",
       "       [243.44087],\n",
       "       [242.94989],\n",
       "       [242.27443],\n",
       "       [242.00917]], dtype=float32)"
      ]
     },
     "execution_count": 17,
     "metadata": {},
     "output_type": "execute_result"
    }
   ],
   "source": [
    "# main.py\n",
    "from fastapi import FastAPI\n",
    "from pydantic import BaseModel\n",
    "import joblib\n",
    "import yfinance as yf\n",
    "import numpy as np\n",
    "import pandas as pd\n",
    "from fastapi.middleware.cors import CORSMiddleware\n",
    "\n",
    "\n",
    "def predict(ticker):\n",
    "\n",
    "    # Load the saved model and scaler for this ticker\n",
    "    # (Make sure the files exist; otherwise handle the error.)\n",
    "    model = joblib.load(\"live_models/AAPL_model.joblib\")\n",
    "    X_predict = pd.read_csv('predicting_data/AAPL.csv')\n",
    "    X_predict = X_predict.drop(['Date'], axis=1)\n",
    "    \n",
    "    # Convert 'Ticker' column to categorical type\n",
    "    X_predict = X_predict.drop(['Ticker'], axis=1)\n",
    "    \n",
    "    # Enable categorical parameter\n",
    "    predictions = model.predict(X_predict)\n",
    "\n",
    "    return (predictions)\n",
    "\n",
    "predict('AAPL')"
   ]
  },
  {
   "cell_type": "code",
   "execution_count": null,
   "metadata": {},
   "outputs": [],
   "source": []
  }
 ],
 "metadata": {
  "kernelspec": {
   "display_name": "Python 3",
   "language": "python",
   "name": "python3"
  },
  "language_info": {
   "codemirror_mode": {
    "name": "ipython",
    "version": 3
   },
   "file_extension": ".py",
   "mimetype": "text/x-python",
   "name": "python",
   "nbconvert_exporter": "python",
   "pygments_lexer": "ipython3",
   "version": "3.11.9"
  }
 },
 "nbformat": 4,
 "nbformat_minor": 2
}

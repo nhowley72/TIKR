{
 "cells": [
  {
   "cell_type": "code",
   "execution_count": 2,
   "metadata": {},
   "outputs": [
    {
     "name": "stderr",
     "output_type": "stream",
     "text": [
      "[*********************100%***********************]  1 of 1 completed"
     ]
    },
    {
     "name": "stdout",
     "output_type": "stream",
     "text": [
      "Trained model RMSE for AAPL: 0.06879256797341507\n",
      "Model and scaler saved for ticker AAPL.\n"
     ]
    },
    {
     "name": "stderr",
     "output_type": "stream",
     "text": [
      "\n"
     ]
    }
   ],
   "source": [
    "\n",
    "# train_and_save_model.ipynb\n",
    "\n",
    "import yfinance as yf\n",
    "import numpy as np\n",
    "from sklearn.preprocessing import MinMaxScaler\n",
    "from sklearn.metrics import mean_squared_error\n",
    "from xgboost import XGBRegressor\n",
    "import joblib\n",
    "from datetime import datetime\n",
    "\n",
    "\n",
    "# 1. Fetch stock data\n",
    "def fetch_stock_data(ticker, start_date, end_date):\n",
    "    data = yf.download(ticker, start=start_date, end=end_date)\n",
    "    data = data.dropna()\n",
    "    return data\n",
    "\n",
    "# 2. Example: Prepare the data (very simple example: predict \"Close\" from 1-day-lag)\n",
    "def prepare_features_and_labels(data):\n",
    "    # For simplicity, let's just shift the 'Close' price by 1 day to predict the next day's close\n",
    "    data['Close_tomorrow'] = data['Close'].shift(-1)\n",
    "    data.dropna(inplace=True)\n",
    "    \n",
    "    # X: today's close\n",
    "    X = data[['Close']].values\n",
    "    # y: tomorrow's close\n",
    "    y = data['Close_tomorrow'].values\n",
    "    return X, y\n",
    "\n",
    "# Train function\n",
    "def train_and_save_model(ticker):\n",
    "    # Hyperparameters (tweak as needed)\n",
    "    start_date = \"2025-01-01\"\n",
    "    end_date = datetime.today().strftime(\"%Y-%m-%d\")    \n",
    "    # Fetch data\n",
    "    stock_data = fetch_stock_data(ticker, start_date, end_date)\n",
    "    \n",
    "    # Prepare features/labels\n",
    "    X, y = prepare_features_and_labels(stock_data)\n",
    "    \n",
    "    # Scale X\n",
    "    scaler = MinMaxScaler()\n",
    "    X_scaled = scaler.fit_transform(X)\n",
    "    \n",
    "    # Train XGBRegressor\n",
    "    model = XGBRegressor(n_estimators=100, learning_rate=0.1, random_state=42)\n",
    "    model.fit(X_scaled, y)\n",
    "    \n",
    "    # Evaluate quickly on the same data (just for demonstration)\n",
    "    y_pred = model.predict(X_scaled)\n",
    "    rmse = np.sqrt(mean_squared_error(y, y_pred))\n",
    "    print(f\"Trained model RMSE for {ticker}:\", rmse)\n",
    "    \n",
    "    # Save the model and scaler\n",
    "    joblib.dump(model, f\"{ticker}_model.joblib\")\n",
    "    joblib.dump(scaler, f\"{ticker}_scaler.joblib\")\n",
    "    print(f\"Model and scaler saved for ticker {ticker}.\")\n",
    "\n",
    "# Example usage: train and save for \"AAPL\"\n",
    "train_and_save_model(\"AAPL\")\n"
   ]
  },
  {
   "cell_type": "code",
   "execution_count": null,
   "metadata": {},
   "outputs": [],
   "source": []
  }
 ],
 "metadata": {
  "kernelspec": {
   "display_name": "Python 3",
   "language": "python",
   "name": "python3"
  },
  "language_info": {
   "codemirror_mode": {
    "name": "ipython",
    "version": 3
   },
   "file_extension": ".py",
   "mimetype": "text/x-python",
   "name": "python",
   "nbconvert_exporter": "python",
   "pygments_lexer": "ipython3",
   "version": "3.11.9"
  }
 },
 "nbformat": 4,
 "nbformat_minor": 2
}
